{
 "cells": [
  {
   "cell_type": "code",
   "execution_count": 1,
   "metadata": {},
   "outputs": [],
   "source": [
    "#Importing Libraries\n",
    "import numpy as np\n",
    "import matplotlib.pyplot as plt"
   ]
  },
  {
   "cell_type": "code",
   "execution_count": 11,
   "metadata": {},
   "outputs": [
    {
     "data": {
      "text/plain": [
       "array([ 0.0e+00, -1.6e-15,  0.0e+00])"
      ]
     },
     "execution_count": 11,
     "metadata": {},
     "output_type": "execute_result"
    }
   ],
   "source": [
    "def lorentz(vel, magField, eField = np.array([0,0,0]), q = 1.6*(10**-19)):\n",
    "    f = q*(eField + np.cross(vel,magField))\n",
    "    return f\n",
    "velocity = 3*(10**7)*np.array([1,0,0])\n",
    "magneticField = 1*(10**-3)*np.array([0,0,-1])\n",
    "EFieldMag = 40e3\n",
    "Efield = EFieldMag*np.array([0,-1,0])\n",
    "lorentz(velocity, magneticField, Efield)"
   ]
  },
  {
   "cell_type": "code",
   "execution_count": 13,
   "metadata": {},
   "outputs": [],
   "source": [
    "m_e = 9.11*(10**-31)\n",
    "q_e = 1.6*(10**-19)\n",
    "\n",
    "tc = 0.1/(3e7)\n",
    "numCycles = 1e4\n",
    "\n",
    "deltaT = tc/numCycles\n",
    "t=0\n",
    "\n",
    "myVel = velocity\n",
    "myBField = magneticField\n",
    "myEField = Efield\n",
    "\n",
    "myPos = np.array([0,0,0])\n",
    "myForce = lorentz(myVel,myBField,myEField)"
   ]
  },
  {
   "cell_type": "code",
   "execution_count": 15,
   "metadata": {},
   "outputs": [],
   "source": [
    "listVel = []\n",
    "listPos = []\n",
    "listForce = []\n",
    "listTime = []\n",
    "\n",
    "listVel.append(myVel)\n",
    "listPos.append(myPos)\n",
    "listForce.append(myForce)\n",
    "listTime.append(t)\n"
   ]
  },
  {
   "cell_type": "code",
   "execution_count": 19,
   "metadata": {},
   "outputs": [],
   "source": [
    "while t < (tc):\n",
    "    t+=deltaT\n",
    "    newVel = myVel + (myForce/m_e)*deltaT\n",
    "    newPos = myPos + newVel*deltaT\n",
    "    \n",
    "    newForce = lorentz(newVel,myBField,myEField)\n",
    "    \n",
    "    listVel.append(newVel)\n",
    "    listPos.append(newPos)\n",
    "    listForce.append(newForce)\n",
    "    listTime.append(t)\n",
    "    \n",
    "    myVel = newVel\n",
    "    myPos = newPos\n",
    "    myForce = newForce\n",
    "    \n",
    "plt.figure(figsize = [20,20])\n",
    "    \n",
    "xList = []\n",
    "yList = []\n",
    "    \n",
    "for vector in listPos:\n",
    "    "
   ]
  },
  {
   "cell_type": "code",
   "execution_count": null,
   "metadata": {},
   "outputs": [],
   "source": []
  }
 ],
 "metadata": {
  "kernelspec": {
   "display_name": "Python 3",
   "language": "python",
   "name": "python3"
  },
  "language_info": {
   "codemirror_mode": {
    "name": "ipython",
    "version": 3
   },
   "file_extension": ".py",
   "mimetype": "text/x-python",
   "name": "python",
   "nbconvert_exporter": "python",
   "pygments_lexer": "ipython3",
   "version": "3.6.2"
  }
 },
 "nbformat": 4,
 "nbformat_minor": 2
}
